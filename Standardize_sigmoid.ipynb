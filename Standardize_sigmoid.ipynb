{
 "cells": [
  {
   "cell_type": "code",
   "execution_count": 39,
   "metadata": {},
   "outputs": [],
   "source": [
    "import numpy as np\n",
    "import pandas as pd\n",
    "import matplotlib.pyplot as plt\n",
    "from sklearn.model_selection import train_test_split\n",
    "from math import e\n",
    "import math"
   ]
  },
  {
   "cell_type": "code",
   "execution_count": 24,
   "metadata": {},
   "outputs": [],
   "source": [
    "df = pd.read_csv('dataset/diabetes.csv')\n"
   ]
  },
  {
   "cell_type": "code",
   "execution_count": 25,
   "metadata": {},
   "outputs": [
    {
     "data": {
      "text/plain": [
       "(768,)"
      ]
     },
     "execution_count": 25,
     "metadata": {},
     "output_type": "execute_result"
    }
   ],
   "source": [
    "Y = df['Outcome'].values\n",
    "X = df.drop(['Outcome'], axis=1).values\n",
    "Y.shape"
   ]
  },
  {
   "cell_type": "code",
   "execution_count": 26,
   "metadata": {},
   "outputs": [],
   "source": [
    "x_train, x_test, y_train, y_test = train_test_split(X, Y, test_size=0.2, random_state=0)"
   ]
  },
  {
   "cell_type": "code",
   "execution_count": 49,
   "metadata": {},
   "outputs": [],
   "source": [
    "def standardize(x_test):\n",
    "    \"\"\"Standardizing the data (features) to use them properly\"\"\"\n",
    "    standard_list = []\n",
    "    for i in range(x_test.shape[1]):\n",
    "        scaled  = (x_test[:, i] - np.mean(x_test[:, i]))/np.std(x_test[:, i])\n",
    "        standard_list.append(scaled)\n",
    "    return standard_list"
   ]
  },
  {
   "cell_type": "code",
   "execution_count": 48,
   "metadata": {},
   "outputs": [],
   "source": [
    "# e = math.exp(e) # Euler's number\n",
    "def sigmoid(a, b, x):\n",
    "    \"\"\"Sigmoid mathematical function\"\"\"\n",
    "    y = a*x + b\n",
    "    sig = 1/(1+(np.exp(-y))) \n",
    "    return sig "
   ]
  },
  {
   "cell_type": "code",
   "execution_count": 36,
   "metadata": {},
   "outputs": [],
   "source": [
    "def predict(x, a, b):\n",
    "    \"\"\" Create a predict function to check the outcome by comparing it to the sigmoid\n",
    "    \"\"\"\n",
    "    outcome = []\n",
    "    for i in range(x.shape[0]):\n",
    "        pred = sigmoid(a, b, x[i])\n",
    "        if pred > 0.5:\n",
    "            outcome.append(1)\n",
    "        else:\n",
    "            outcome.append(0)\n",
    "    return np.array(outcome)"
   ]
  },
  {
   "cell_type": "code",
   "execution_count": 50,
   "metadata": {},
   "outputs": [],
   "source": [
    "def score(y, y_hat):\n",
    "    pred = 0\n",
    "    true_values = 0\n",
    "    for i in range(len(y)):\n",
    "        if pred[i] == 1 and true_values[i] == 1:\n",
    "            true_values +1\n",
    "        elif pred[i] == 1 and true_values[i] == 0:\n",
    "            pred += 1\n",
    "        else:\n",
    "            pred += 0\n",
    "    accuracy = score(y)/len(true_values)\n",
    "    return accuracy\n"
   ]
  },
  {
   "cell_type": "code",
   "execution_count": null,
   "metadata": {},
   "outputs": [],
   "source": []
  }
 ],
 "metadata": {
  "interpreter": {
   "hash": "5ed1bb5934eae08299c16fd9947bb48a0f71760aafca10ea34604ac55954bd10"
  },
  "kernelspec": {
   "display_name": "Python 3.10.4 ('strive2')",
   "language": "python",
   "name": "python3"
  },
  "language_info": {
   "codemirror_mode": {
    "name": "ipython",
    "version": 3
   },
   "file_extension": ".py",
   "mimetype": "text/x-python",
   "name": "python",
   "nbconvert_exporter": "python",
   "pygments_lexer": "ipython3",
   "version": "3.10.4"
  },
  "orig_nbformat": 4
 },
 "nbformat": 4,
 "nbformat_minor": 2
}
