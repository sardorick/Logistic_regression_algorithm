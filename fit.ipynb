{
 "cells": [
  {
   "cell_type": "code",
   "execution_count": 3,
   "metadata": {},
   "outputs": [],
   "source": [
    "import numpy as np"
   ]
  },
  {
   "cell_type": "code",
   "execution_count": 13,
   "metadata": {},
   "outputs": [],
   "source": [
    "def sigmoid(a, b, x):\n",
    "    y = a*x + b\n",
    "    return 1 / (1 + np.exp(-y))\n",
    "\n",
    "\n",
    "def fit(x, y, alpha):\n",
    "    # initialise random value for a and b\n",
    "    # a, b = np.random.rand(2)\n",
    "    a, b = 1/20, -2\n",
    "\n",
    "   \n",
    "    for i in range(x.shape[0]):\n",
    "\n",
    "        pred = sigmoid(a, b, x[i])\n",
    "        if y[i] == 0:\n",
    "            error = 0 - pred\n",
    "        else:\n",
    "            error = 1 - pred\n",
    "\n",
    "        if np.abs(error) < 0.0001:\n",
    "            return a, b\n",
    "\n",
    "        else:   \n",
    "            a -= alpha * error * x[i] \n",
    "            b -= alpha * error\n",
    "\n",
    "    # return a, b\n",
    "\n",
    "    \n",
    "\n",
    "def predict(x, a, b):\n",
    "    predictions = []\n",
    "    for i in range(x.shape[0]):\n",
    "        pred = sigmoid(a, b, x[i]) # was getting an error, second index needed to return a single value\n",
    "        if pred > 0.5:\n",
    "            predictions.append(1)\n",
    "        else:\n",
    "            predictions.append(0)\n",
    "\n",
    "    return np.array(predictions)"
   ]
  },
  {
   "cell_type": "code",
   "execution_count": 12,
   "metadata": {},
   "outputs": [
    {
     "data": {
      "text/plain": [
       "1"
      ]
     },
     "execution_count": 12,
     "metadata": {},
     "output_type": "execute_result"
    }
   ],
   "source": [
    "np.abs(-1)"
   ]
  },
  {
   "cell_type": "code",
   "execution_count": 54,
   "metadata": {},
   "outputs": [
    {
     "name": "stdout",
     "output_type": "stream",
     "text": [
      "1.0\n"
     ]
    }
   ],
   "source": [
    "x = np.array([60])\n",
    "y = np.array([0])\n",
    "\n",
    "fit(x, y, 0.1 )\n"
   ]
  },
  {
   "cell_type": "code",
   "execution_count": 16,
   "metadata": {},
   "outputs": [
    {
     "data": {
      "text/plain": [
       "array([0, 0, 0, 0, 0, 0, 0, 0, 0, 0])"
      ]
     },
     "execution_count": 16,
     "metadata": {},
     "output_type": "execute_result"
    }
   ],
   "source": [
    "x = np.arange(10)\n",
    "y = np.array([0, 0, 0, 0, 1, 1, 1, 1, 1, 1])\n",
    "\n",
    "a, b = fit(x, y, 0.5)\n",
    "\n",
    "predict(x, a, b)\n"
   ]
  },
  {
   "cell_type": "code",
   "execution_count": null,
   "metadata": {},
   "outputs": [],
   "source": []
  }
 ],
 "metadata": {
  "interpreter": {
   "hash": "db4d94f7962dcc818ea238f62a69636fa41bd28f5daf8a9f9234f6ae986cf5d4"
  },
  "kernelspec": {
   "display_name": "Python 3.8.12 ('strive')",
   "language": "python",
   "name": "python3"
  },
  "language_info": {
   "codemirror_mode": {
    "name": "ipython",
    "version": 3
   },
   "file_extension": ".py",
   "mimetype": "text/x-python",
   "name": "python",
   "nbconvert_exporter": "python",
   "pygments_lexer": "ipython3",
   "version": "3.8.12"
  },
  "orig_nbformat": 4
 },
 "nbformat": 4,
 "nbformat_minor": 2
}
